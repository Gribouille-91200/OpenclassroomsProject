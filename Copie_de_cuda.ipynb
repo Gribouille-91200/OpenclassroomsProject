{
  "nbformat": 4,
  "nbformat_minor": 0,
  "metadata": {
    "colab": {
      "provenance": [],
      "gpuType": "T4",
      "authorship_tag": "ABX9TyNYKMRz8kldT6j3FKeNaGfF",
      "include_colab_link": true
    },
    "kernelspec": {
      "name": "python3",
      "display_name": "Python 3"
    },
    "language_info": {
      "name": "python"
    },
    "accelerator": "GPU"
  },
  "cells": [
    {
      "cell_type": "markdown",
      "metadata": {
        "id": "view-in-github",
        "colab_type": "text"
      },
      "source": [
        "<a href=\"https://colab.research.google.com/github/Gribouille-91200/OpenclassroomsProject/blob/main/Copie_de_cuda.ipynb\" target=\"_parent\"><img src=\"https://colab.research.google.com/assets/colab-badge.svg\" alt=\"Open In Colab\"/></a>"
      ]
    },
    {
      "cell_type": "code",
      "execution_count": null,
      "metadata": {
        "colab": {
          "base_uri": "https://localhost:8080/"
        },
        "id": "V2KQ95Ho_tqK",
        "outputId": "6289fdf9-807e-4e4b-d1be-33686823a5f1"
      },
      "outputs": [
        {
          "output_type": "stream",
          "name": "stdout",
          "text": [
            "Python 3.11.11\n",
            "nvcc: NVIDIA (R) Cuda compiler driver\n",
            "Copyright (c) 2005-2024 NVIDIA Corporation\n",
            "Built on Thu_Jun__6_02:18:23_PDT_2024\n",
            "Cuda compilation tools, release 12.5, V12.5.82\n",
            "Build cuda_12.5.r12.5/compiler.34385749_0\n",
            "Collecting nvcc4jupyter\n",
            "  Downloading nvcc4jupyter-1.2.1-py3-none-any.whl.metadata (5.1 kB)\n",
            "Downloading nvcc4jupyter-1.2.1-py3-none-any.whl (10 kB)\n",
            "Installing collected packages: nvcc4jupyter\n",
            "Successfully installed nvcc4jupyter-1.2.1\n",
            "Detected platform \"Colab\". Running its setup...\n",
            "Source files will be saved in \"/tmp/tmp13gp27d9\".\n"
          ]
        }
      ],
      "source": [
        "!python --version\n",
        "!nvcc --version\n",
        "!pip install nvcc4jupyter\n",
        "%load_ext nvcc4jupyter"
      ]
    },
    {
      "cell_type": "code",
      "source": [
        "%%writefile hello.cu\n",
        "#include <stdio.h>\n",
        "\n",
        "__global__ void hello(){\n",
        "printf(\"Bonjour du bloc : %u, thread : %u\\n\", blockIdx.x, threadIdx.x);\n",
        "}\n",
        "\n",
        "int main(){\n",
        "hello<<< 2 , 2 >>>();\n",
        "cudaDeviceSynchronize();\n",
        "}\n"
      ],
      "metadata": {
        "colab": {
          "base_uri": "https://localhost:8080/"
        },
        "collapsed": true,
        "id": "Tx0NMFVtAEZp",
        "outputId": "0b884829-a0f6-4207-c0c8-be9c89c1d4f4"
      },
      "execution_count": 24,
      "outputs": [
        {
          "output_type": "stream",
          "name": "stdout",
          "text": [
            "Overwriting hello.cu\n"
          ]
        }
      ]
    },
    {
      "cell_type": "code",
      "source": [
        "\n",
        "%%writefile hello.cu\n",
        "\n",
        "#include<stdio.h>\n",
        "__global__ void hello(void)\n",
        "{\n",
        "    printf(\"GPU: Hello!\\n\");\n",
        "}\n",
        "int main(int argc,char **argv)\n",
        "{\n",
        "    printf(\"CPU: Hello!\\n\");\n",
        "    hello<<<1,10>>>();\n",
        "    cudaDeviceReset();\n",
        "    return 0;\n",
        "}"
      ],
      "metadata": {
        "colab": {
          "base_uri": "https://localhost:8080/"
        },
        "id": "dO8dkgUVAa2u",
        "outputId": "8733560d-490e-4d0c-8598-5e6c80824e9e"
      },
      "execution_count": 20,
      "outputs": [
        {
          "output_type": "stream",
          "name": "stdout",
          "text": [
            "Writing hello.cu\n"
          ]
        }
      ]
    },
    {
      "cell_type": "code",
      "source": [
        "!nvidia-smi\n"
      ],
      "metadata": {
        "colab": {
          "base_uri": "https://localhost:8080/"
        },
        "id": "shD8_3GfDIXv",
        "outputId": "972919c5-2f51-4975-849f-7f8250f9f9bf"
      },
      "execution_count": null,
      "outputs": [
        {
          "output_type": "stream",
          "name": "stdout",
          "text": [
            "Wed Feb 26 21:02:46 2025       \n",
            "+-----------------------------------------------------------------------------------------+\n",
            "| NVIDIA-SMI 550.54.15              Driver Version: 550.54.15      CUDA Version: 12.4     |\n",
            "|-----------------------------------------+------------------------+----------------------+\n",
            "| GPU  Name                 Persistence-M | Bus-Id          Disp.A | Volatile Uncorr. ECC |\n",
            "| Fan  Temp   Perf          Pwr:Usage/Cap |           Memory-Usage | GPU-Util  Compute M. |\n",
            "|                                         |                        |               MIG M. |\n",
            "|=========================================+========================+======================|\n",
            "|   0  Tesla T4                       Off |   00000000:00:04.0 Off |                    0 |\n",
            "| N/A   40C    P8              9W /   70W |       0MiB /  15360MiB |      0%      Default |\n",
            "|                                         |                        |                  N/A |\n",
            "+-----------------------------------------+------------------------+----------------------+\n",
            "                                                                                         \n",
            "+-----------------------------------------------------------------------------------------+\n",
            "| Processes:                                                                              |\n",
            "|  GPU   GI   CI        PID   Type   Process name                              GPU Memory |\n",
            "|        ID   ID                                                               Usage      |\n",
            "|=========================================================================================|\n",
            "|  No running processes found                                                             |\n",
            "+-----------------------------------------------------------------------------------------+\n"
          ]
        }
      ]
    },
    {
      "cell_type": "code",
      "source": [
        "!nvcc -arch=sm_37 -gencode=arch=compute_37,code=sm_37 hello.cu -o hello"
      ],
      "metadata": {
        "colab": {
          "base_uri": "https://localhost:8080/"
        },
        "id": "g35rxtIABpSs",
        "outputId": "b80b3d12-715a-4b06-b770-6e157611321c"
      },
      "execution_count": 25,
      "outputs": [
        {
          "output_type": "stream",
          "name": "stdout",
          "text": [
            "nvcc fatal   : Value 'sm_37' is not defined for option 'gpu-architecture'\n"
          ]
        }
      ]
    },
    {
      "cell_type": "code",
      "source": [
        "!nvcc -arch=sm_75 -gencode=arch=compute_75,code=sm_75 hello.cu -o hello"
      ],
      "metadata": {
        "id": "1LtEdVmqC_RU"
      },
      "execution_count": 26,
      "outputs": []
    },
    {
      "cell_type": "code",
      "source": [
        "!./hello"
      ],
      "metadata": {
        "colab": {
          "base_uri": "https://localhost:8080/"
        },
        "id": "x7MneTOoFRjW",
        "outputId": "1d0f74ec-9630-4af0-8d01-a69f386315b1"
      },
      "execution_count": 27,
      "outputs": [
        {
          "output_type": "stream",
          "name": "stdout",
          "text": [
            "Bonjour du bloc : 1, thread : 0\n",
            "Bonjour du bloc : 1, thread : 1\n",
            "Bonjour du bloc : 0, thread : 0\n",
            "Bonjour du bloc : 0, thread : 1\n"
          ]
        }
      ]
    },
    {
      "cell_type": "code",
      "source": [
        "%%writefile hello.cu\n",
        "\n",
        "#include <stdio.h>\n",
        " __global__ void hello(void){\n",
        "printf(\"Bonjour du bloc : %u, thread : %u\\n\", blockIdx.x, threadIdx.x);\n",
        "}\n",
        "int main(int argc,char **argv){\n",
        "hello<<< 2 , 2 >>>();\n",
        "cudaDeviceSynchronize();\n",
        "}"
      ],
      "metadata": {
        "colab": {
          "base_uri": "https://localhost:8080/"
        },
        "id": "Wy303UjFFf_w",
        "outputId": "e9918079-056e-4b16-9d53-6017c27ceaee"
      },
      "execution_count": null,
      "outputs": [
        {
          "output_type": "stream",
          "name": "stdout",
          "text": [
            "Overwriting hello.cu\n"
          ]
        }
      ]
    },
    {
      "cell_type": "code",
      "source": [
        "!nvcc -arch=sm_75 -gencode=arch=compute_75,code=sm_75 hello.cu -o hello"
      ],
      "metadata": {
        "id": "2nAzYgC9GUJT"
      },
      "execution_count": null,
      "outputs": []
    },
    {
      "cell_type": "code",
      "source": [
        "!./hello"
      ],
      "metadata": {
        "colab": {
          "base_uri": "https://localhost:8080/"
        },
        "id": "qW28U4Y8GXOR",
        "outputId": "aff1147e-2d0d-4b59-885e-41dd8bad70aa"
      },
      "execution_count": null,
      "outputs": [
        {
          "output_type": "stream",
          "name": "stdout",
          "text": [
            "Bonjour du bloc : 1, thread : 0\n",
            "Bonjour du bloc : 1, thread : 1\n",
            "Bonjour du bloc : 0, thread : 0\n",
            "Bonjour du bloc : 0, thread : 1\n"
          ]
        }
      ]
    },
    {
      "cell_type": "code",
      "source": [
        "%%writefile vector_add.cu\n",
        "#include <stdio.h>\n",
        "#include<stdlib.h>\n",
        "#define N 100000\n",
        "\n",
        "__global__ void vector_add(float *out, float *a, float *b, int n) {\n",
        "       int id = (blockIdx.x * blockDim.x) + threadIdx.x;\n",
        "       //printf(\"Bonjour du bloc : %u, thread : %u\\n\", blockIdx.x, threadIdx.x);\n",
        "\n",
        "    // Make sure we do not go out of bounds;\n",
        "    // Threads allocated could be larger than array length\n",
        "    if (id < n){\n",
        "        out[id] = a[id] + b[id];\n",
        "    }\n",
        ";\n",
        "}\n",
        "\n",
        "int main(){\n",
        "    float *a, *b, *out;\n",
        "    float *d_a, *d_b, *d_out;\n",
        "\n",
        "    a = (float*)malloc(sizeof(float) * N);\n",
        "    b = (float*)malloc(sizeof(float) * N);\n",
        "    out = (float*)malloc(sizeof(float) * N);\n",
        "\n",
        "        // Initialize array\n",
        "    for(int i = 0; i < N; i++){\n",
        "        a[i] = 1.0f; b[i] = 2.0f;\n",
        "    }\n",
        "\n",
        "    // Allocate device memory for a\n",
        "    cudaMalloc((void**)&d_a, sizeof(float) * N);\n",
        "    cudaMalloc((void**)&d_b, sizeof(float) * N);\n",
        "    cudaMalloc((void**)&d_out, sizeof(float) * N);\n",
        "\n",
        "    // Transfer data from host to device memory\n",
        "    cudaMemcpy(d_a, a, sizeof(float) * N, cudaMemcpyHostToDevice);\n",
        "    cudaMemcpy(d_b, b, sizeof(float) * N, cudaMemcpyHostToDevice);\n",
        "\n",
        "    // Default number of threads in each thread block\n",
        "    int blockSize = 256;\n",
        "\n",
        "    // Number of thread blocks in grid needs to be based on array size\n",
        "    // and block size\n",
        "    int gridSize = (int)ceil((float)N/blockSize);\n",
        "\n",
        "    printf(\"add vectors on device using grid with \");\n",
        "    printf(\"%d blocks of %d threads each.\\n\", gridSize, blockSize);\n",
        "\n",
        "    vector_add<<<gridSize,blockSize>>>(d_out, d_a, d_b, N);\n",
        "\n",
        "   // Copy data from device array d_C to host array C\n",
        "    cudaMemcpy(out, d_out, sizeof(float) * N, cudaMemcpyDeviceToHost);\n",
        "\n",
        "    /*for (int i=0; i< N; i++){\n",
        "      printf(\"%f +%f  = %f \\n\", a[i],b[i], out[i]);\n",
        "    }*/\n",
        "\n",
        "\n",
        "    // Cleanup after kernel execution\n",
        "    cudaFree(d_a);\n",
        "    cudaFree(d_b);\n",
        "    cudaFree(d_out);\n",
        "\n",
        "    free(a);\n",
        "    free(b);\n",
        "    free(out);\n",
        "}"
      ],
      "metadata": {
        "colab": {
          "base_uri": "https://localhost:8080/"
        },
        "id": "BoVPp5keGoFS",
        "outputId": "5989db50-576f-426f-e2c5-9aa621b6f992"
      },
      "execution_count": 122,
      "outputs": [
        {
          "output_type": "stream",
          "name": "stdout",
          "text": [
            "Overwriting vector_add.cu\n"
          ]
        }
      ]
    },
    {
      "cell_type": "code",
      "source": [
        "!nvcc -arch=sm_75 -gencode=arch=compute_75,code=sm_75 vector_add.cu -o vector_add"
      ],
      "metadata": {
        "id": "AkXN4kSxHqFo"
      },
      "execution_count": 123,
      "outputs": []
    },
    {
      "cell_type": "code",
      "source": [
        "!./vector_add"
      ],
      "metadata": {
        "id": "gAz4Pe25HyZk",
        "colab": {
          "base_uri": "https://localhost:8080/"
        },
        "outputId": "0225c68a-edb2-4514-d106-4629221a6f31"
      },
      "execution_count": 124,
      "outputs": [
        {
          "output_type": "stream",
          "name": "stdout",
          "text": [
            "add vectors on device using grid with 391 blocks of 256 threads each.\n"
          ]
        }
      ]
    },
    {
      "cell_type": "code",
      "source": [],
      "metadata": {
        "id": "3wuAPfqTLENB"
      },
      "execution_count": 56,
      "outputs": []
    },
    {
      "cell_type": "markdown",
      "source": [],
      "metadata": {
        "id": "q5SkI2WkLDsD"
      }
    },
    {
      "cell_type": "code",
      "source": [],
      "metadata": {
        "id": "9mf5lYqVH4NJ"
      },
      "execution_count": null,
      "outputs": []
    }
  ]
}